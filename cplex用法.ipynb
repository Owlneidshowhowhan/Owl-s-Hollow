{
 "cells": [
  {
   "cell_type": "code",
   "execution_count": 3,
   "id": "af155df1",
   "metadata": {
    "tags": []
   },
   "outputs": [
    {
     "name": "stdout",
     "output_type": "stream",
     "text": [
      "Version identifier: 22.1.1.0 | 2023-06-15 | d64d5bd77\n",
      "CPXPARAM_Read_DataCheck                          1\n",
      "Found incumbent of value 0.000000 after 0.00 sec. (0.00 ticks)\n",
      "Tried aggregator 1 time.\n",
      "Reduced MIP has 3 rows, 3 columns, and 9 nonzeros.\n",
      "Reduced MIP has 0 binaries, 0 generals, 0 SOSs, and 0 indicators.\n",
      "Presolve time = 0.00 sec. (0.00 ticks)\n",
      "Tried aggregator 1 time.\n",
      "Reduced MIP has 3 rows, 3 columns, and 9 nonzeros.\n",
      "Reduced MIP has 0 binaries, 0 generals, 0 SOSs, and 0 indicators.\n",
      "Presolve time = 0.02 sec. (0.00 ticks)\n",
      "MIP emphasis: balance optimality and feasibility.\n",
      "MIP search method: dynamic search.\n",
      "Parallel mode: deterministic, using up to 16 threads.\n",
      "Root relaxation solution time = 0.00 sec. (0.00 ticks)\n",
      "\n",
      "        Nodes                                         Cuts/\n",
      "   Node  Left     Objective  IInf  Best Integer    Best Bound    ItCnt     Gap\n",
      "\n",
      "*     0+    0                            0.0000   177540.0000              --- \n",
      "*     0     0      integral     0    66100.0000    66100.0000        3    0.00%\n",
      "Elapsed time = 0.02 sec. (0.01 ticks, tree = 0.00 MB, solutions = 2)\n",
      "\n",
      "Root node processing (before b&c):\n",
      "  Real time             =    0.02 sec. (0.01 ticks)\n",
      "Parallel b&c, 16 threads:\n",
      "  Real time             =    0.00 sec. (0.00 ticks)\n",
      "  Sync time (average)   =    0.00 sec.\n",
      "  Wait time (average)   =    0.00 sec.\n",
      "                          ------------\n",
      "Total (root+branch&cut) =    0.02 sec. (0.01 ticks)\n"
     ]
    },
    {
     "name": "stderr",
     "output_type": "stream",
     "text": [
      "CPLEX Error  1217: No solution exists.\n",
      "CPLEX Error  1217: No solution exists.\n"
     ]
    },
    {
     "name": "stdout",
     "output_type": "stream",
     "text": [
      "Objective value: 66100.0\n",
      "Decision variables:\n",
      "x1 = 122.0\n",
      "x2 = 78.0\n",
      "x3 = 0.0\n",
      "\n",
      "Sensitivity Analysis:\n"
     ]
    },
    {
     "ename": "CplexSolverError",
     "evalue": "CPLEX Error  1217: No solution exists.",
     "output_type": "error",
     "traceback": [
      "\u001b[1;31m---------------------------------------------------------------------------\u001b[0m",
      "\u001b[1;31mCplexSolverError\u001b[0m                          Traceback (most recent call last)",
      "Cell \u001b[1;32mIn[3], line 65\u001b[0m\n\u001b[0;32m     60\u001b[0m \u001b[38;5;66;03m# 获取灵敏度分析信息\u001b[39;00m\n\u001b[0;32m     61\u001b[0m \n\u001b[0;32m     62\u001b[0m \n\u001b[0;32m     63\u001b[0m \u001b[38;5;66;03m# 打印灵敏度分析信息\u001b[39;00m\n\u001b[0;32m     64\u001b[0m \u001b[38;5;28mprint\u001b[39m(\u001b[38;5;124m\"\u001b[39m\u001b[38;5;130;01m\\n\u001b[39;00m\u001b[38;5;124mSensitivity Analysis:\u001b[39m\u001b[38;5;124m\"\u001b[39m)\n\u001b[1;32m---> 65\u001b[0m \u001b[38;5;28mprint\u001b[39m(problem\u001b[38;5;241m.\u001b[39msolution\u001b[38;5;241m.\u001b[39msensitivity\u001b[38;5;241m.\u001b[39mobjective())\n\u001b[0;32m     66\u001b[0m \u001b[38;5;28mprint\u001b[39m(problem\u001b[38;5;241m.\u001b[39msolution\u001b[38;5;241m.\u001b[39msensitivity\u001b[38;5;241m.\u001b[39mrhs())\n",
      "File \u001b[1;32m~\\AppData\\Roaming\\Python\\Python311\\site-packages\\cplex\\_internal\\_subinterfaces.py:5266\u001b[0m, in \u001b[0;36mSensitivityInterface.objective\u001b[1;34m(self, *args)\u001b[0m\n\u001b[0;32m   5264\u001b[0m \u001b[38;5;28;01mdef\u001b[39;00m \u001b[38;5;21msa\u001b[39m(a, b\u001b[38;5;241m=\u001b[39m\u001b[38;5;28mself\u001b[39m\u001b[38;5;241m.\u001b[39m_cplex\u001b[38;5;241m.\u001b[39mvariables\u001b[38;5;241m.\u001b[39mget_num() \u001b[38;5;241m-\u001b[39m \u001b[38;5;241m1\u001b[39m):\n\u001b[0;32m   5265\u001b[0m     \u001b[38;5;28;01mreturn\u001b[39;00m unzip(CPX_PROC\u001b[38;5;241m.\u001b[39mobjsa(\u001b[38;5;28mself\u001b[39m\u001b[38;5;241m.\u001b[39m_env\u001b[38;5;241m.\u001b[39m_e, \u001b[38;5;28mself\u001b[39m\u001b[38;5;241m.\u001b[39m_cplex\u001b[38;5;241m.\u001b[39m_lp, a, b))\n\u001b[1;32m-> 5266\u001b[0m \u001b[38;5;28;01mreturn\u001b[39;00m apply_freeform_two_args(\n\u001b[0;32m   5267\u001b[0m     sa, \u001b[38;5;28mself\u001b[39m\u001b[38;5;241m.\u001b[39m_cplex\u001b[38;5;241m.\u001b[39mvariables\u001b[38;5;241m.\u001b[39m_conv, args)\n",
      "File \u001b[1;32m~\\AppData\\Roaming\\Python\\Python311\\site-packages\\cplex\\_internal\\_aux_functions.py:155\u001b[0m, in \u001b[0;36mapply_freeform_two_args\u001b[1;34m(fn, conv, args, unpack_single)\u001b[0m\n\u001b[0;32m    153\u001b[0m     \u001b[38;5;28;01mraise\u001b[39;00m \u001b[38;5;167;01mTypeError\u001b[39;00m(\u001b[38;5;124m\"\u001b[39m\u001b[38;5;124mexpecting name or index\u001b[39m\u001b[38;5;124m\"\u001b[39m)\n\u001b[0;32m    154\u001b[0m \u001b[38;5;28;01melif\u001b[39;00m nargs \u001b[38;5;241m==\u001b[39m \u001b[38;5;241m0\u001b[39m:\n\u001b[1;32m--> 155\u001b[0m     \u001b[38;5;28;01mreturn\u001b[39;00m fn(\u001b[38;5;241m0\u001b[39m)\n\u001b[0;32m    156\u001b[0m \u001b[38;5;28;01mraise\u001b[39;00m WrongNumberOfArgumentsError()\n",
      "File \u001b[1;32m~\\AppData\\Roaming\\Python\\Python311\\site-packages\\cplex\\_internal\\_subinterfaces.py:5265\u001b[0m, in \u001b[0;36mSensitivityInterface.objective.<locals>.sa\u001b[1;34m(a, b)\u001b[0m\n\u001b[0;32m   5264\u001b[0m \u001b[38;5;28;01mdef\u001b[39;00m \u001b[38;5;21msa\u001b[39m(a, b\u001b[38;5;241m=\u001b[39m\u001b[38;5;28mself\u001b[39m\u001b[38;5;241m.\u001b[39m_cplex\u001b[38;5;241m.\u001b[39mvariables\u001b[38;5;241m.\u001b[39mget_num() \u001b[38;5;241m-\u001b[39m \u001b[38;5;241m1\u001b[39m):\n\u001b[1;32m-> 5265\u001b[0m     \u001b[38;5;28;01mreturn\u001b[39;00m unzip(CPX_PROC\u001b[38;5;241m.\u001b[39mobjsa(\u001b[38;5;28mself\u001b[39m\u001b[38;5;241m.\u001b[39m_env\u001b[38;5;241m.\u001b[39m_e, \u001b[38;5;28mself\u001b[39m\u001b[38;5;241m.\u001b[39m_cplex\u001b[38;5;241m.\u001b[39m_lp, a, b))\n",
      "File \u001b[1;32m~\\AppData\\Roaming\\Python\\Python311\\site-packages\\cplex\\_internal\\_procedural.py:2321\u001b[0m, in \u001b[0;36mobjsa\u001b[1;34m(env, lp, begin, end)\u001b[0m\n\u001b[0;32m   2319\u001b[0m upper \u001b[38;5;241m=\u001b[39m _safeDoubleArray(listlen)\n\u001b[0;32m   2320\u001b[0m status \u001b[38;5;241m=\u001b[39m CR\u001b[38;5;241m.\u001b[39mCPXXobjsa(env, lp, begin, end, lower, upper)\n\u001b[1;32m-> 2321\u001b[0m check_status(env, status)\n\u001b[0;32m   2322\u001b[0m \u001b[38;5;28;01mreturn\u001b[39;00m (LAU\u001b[38;5;241m.\u001b[39marray_to_list(lower, listlen),\n\u001b[0;32m   2323\u001b[0m         LAU\u001b[38;5;241m.\u001b[39marray_to_list(upper, listlen))\n",
      "File \u001b[1;32m~\\AppData\\Roaming\\Python\\Python311\\site-packages\\cplex\\_internal\\_procedural.py:249\u001b[0m, in \u001b[0;36mStatusChecker.__call__\u001b[1;34m(self, env, status, from_cb)\u001b[0m\n\u001b[0;32m    247\u001b[0m     \u001b[38;5;28;01melse\u001b[39;00m:\n\u001b[0;32m    248\u001b[0m         error_string \u001b[38;5;241m=\u001b[39m geterrorstring(env, status)\n\u001b[1;32m--> 249\u001b[0m \u001b[38;5;28;01mraise\u001b[39;00m CplexSolverError(error_string, env, status)\n",
      "\u001b[1;31mCplexSolverError\u001b[0m: CPLEX Error  1217: No solution exists."
     ]
    }
   ],
   "source": [
    "import cplex\n",
    "from cplex.exceptions import CplexError\n",
    "from cplex import Cplex\n",
    "\n",
    "# 创建一个空的线性规划问题\n",
    "problem = Cplex()\n",
    "\n",
    "# 添加决策变量\n",
    "'''\n",
    "types=[\"C\", \"C\", \"C\"]\n",
    "'C': 连续变量（Continuous Variable） - 变量可以取任何实数值。\n",
    "'I': 整数变量（Integer Variable） - 变量必须取整数值。\n",
    "'B': 二进制变量（Binary Variable） - 变量只能取0或1。\n",
    "'''\n",
    "x1 = problem.variables.add(names=[\"x1\"], types=[\"C\"], lb=[0])\n",
    "x2 = problem.variables.add(names=[\"x2\"], types=[\"C\"], lb=[0])\n",
    "x3 = problem.variables.add(names=[\"x3\"], types=[\"C\"], lb=[0])\n",
    "\n",
    "# 添加目标函数\n",
    "problem.objective.set_linear([(\"x1\", 350), (\"x2\", 300), (\"x3\", 320)])  # 例如，目标函数为 max(x1 + 2*x2 + 3*x3)\n",
    "problem.objective.set_sense(problem.objective.sense.maximize)\n",
    "\n",
    "# 添加约束\n",
    "problem.linear_constraints.add(\n",
    "    lin_expr=[[[\"x1\", \"x2\", \"x3\"], [1, 1, 1]]],\n",
    "    senses=[\"L\"],  # 小于等于约束\n",
    "    rhs=[200]\n",
    ")\n",
    "problem.linear_constraints.add(\n",
    "    lin_expr=[[[\"x1\", \"x2\", \"x3\"], [9, 6, 8]]],\n",
    "    senses=[\"L\"],  # 小于等于约束\n",
    "    rhs=[1566]\n",
    ")\n",
    "problem.linear_constraints.add(\n",
    "    lin_expr=[[[\"x1\", \"x2\", \"x3\"], [12, 16, 13]]],\n",
    "    senses=[\"L\"],  # 小于等于约束\n",
    "    rhs=[2880]\n",
    ")\n",
    "# 将决策变量的下界设置为0，表示非负条件\n",
    "\n",
    "\n",
    "try:\n",
    "    problem.solve()\n",
    "except CplexError as exc:\n",
    "    print(exc)\n",
    "\n",
    "\n",
    "# 获取解\n",
    "solution = problem.solution\n",
    "\n",
    "# 打印最优解\n",
    "print(\"Objective value:\", solution.get_objective_value())\n",
    "\n",
    "\n",
    "# 打印决策变量的值\n",
    "print(\"Decision variables:\")\n",
    "for i, val in enumerate(solution.get_values()):\n",
    "    print(f\"x{i + 1} = {val}\")\n",
    "\n",
    "# 获取灵敏度分析信息\n",
    "\n",
    "\n",
    "# 打印灵敏度分析信息\n",
    "print(\"\\nSensitivity Analysis:\")\n",
    "print(problem.solution.sensitivity.objective())\n",
    "print(problem.solution.sensitivity.rhs())\n"
   ]
  },
  {
   "cell_type": "code",
   "execution_count": null,
   "id": "3d350557",
   "metadata": {},
   "outputs": [],
   "source": []
  }
 ],
 "metadata": {
  "kernelspec": {
   "display_name": "Python 3 (ipykernel)",
   "language": "python",
   "name": "python3"
  },
  "language_info": {
   "codemirror_mode": {
    "name": "ipython",
    "version": 3
   },
   "file_extension": ".py",
   "mimetype": "text/x-python",
   "name": "python",
   "nbconvert_exporter": "python",
   "pygments_lexer": "ipython3",
   "version": "3.11.5"
  }
 },
 "nbformat": 4,
 "nbformat_minor": 5
}

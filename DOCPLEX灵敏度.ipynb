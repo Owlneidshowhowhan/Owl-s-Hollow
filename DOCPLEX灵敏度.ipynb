{
 "cells": [
  {
   "cell_type": "markdown",
   "id": "98f14d08-34fc-42d6-9a08-970e613c0c31",
   "metadata": {
    "tags": []
   },
   "source": [
    "# 使用DOCPLEX求解线性规划问题"
   ]
  },
  {
   "cell_type": "markdown",
   "id": "54d7b930-5bf1-4201-9e10-69babb886d94",
   "metadata": {},
   "source": [
    "## 导入docplex库"
   ]
  },
  {
   "cell_type": "code",
   "execution_count": 28,
   "id": "07213f50-976e-47cb-971b-7c1eb440b787",
   "metadata": {
    "tags": []
   },
   "outputs": [],
   "source": [
    "from docplex.mp.model import Model"
   ]
  },
  {
   "cell_type": "markdown",
   "id": "e2816505-5429-4739-bc63-e0e76f65c8ce",
   "metadata": {},
   "source": [
    "## 列出线性规划问题的矩阵表达形式"
   ]
  },
  {
   "cell_type": "code",
   "execution_count": 29,
   "id": "6cb4e5ff-42f1-4756-8ef6-c4334a0c3b05",
   "metadata": {
    "tags": []
   },
   "outputs": [],
   "source": [
    "num_variables = 3\n",
    "MaxMin = \"max\"\n",
    "A = [[1, 1, 1],\n",
    "     [9, 6, 8],\n",
    "     [12, 16, 13]]\n",
    "b = [200, 1566, 2880]\n",
    "C = [350, 300, 320]"
   ]
  },
  {
   "cell_type": "markdown",
   "id": "db884d31-6596-4d67-84f7-7655166286bb",
   "metadata": {
    "tags": []
   },
   "source": [
    "## 创建线性规划模型"
   ]
  },
  {
   "cell_type": "code",
   "execution_count": 30,
   "id": "b332295f-0fbd-4b54-b8f4-861c6794abf0",
   "metadata": {
    "tags": []
   },
   "outputs": [],
   "source": [
    "model = Model(name='linear_programming_example')\n",
    "x = model.continuous_var_list(num_variables, name='x')"
   ]
  },
  {
   "cell_type": "markdown",
   "id": "acd17ce0-1463-41c9-b25d-5a71408c9ff0",
   "metadata": {},
   "source": [
    "## 将约束条件添加到模型中"
   ]
  },
  {
   "cell_type": "code",
   "execution_count": 31,
   "id": "eecef282-db3c-475e-86b7-2cd896cb66b7",
   "metadata": {
    "tags": []
   },
   "outputs": [],
   "source": [
    "for i in range(len(A)):\n",
    "    model.add_constraint(sum(A[i][j] * x[j] for j in range(num_variables)) <= b[i])"
   ]
  },
  {
   "cell_type": "markdown",
   "id": "bb58229f-f97b-42ac-aa4f-f250240472e6",
   "metadata": {
    "tags": []
   },
   "source": [
    "## 定义目标函数"
   ]
  },
  {
   "cell_type": "code",
   "execution_count": 32,
   "id": "e09a3d3d-6b8f-4d07-a52a-892180fd8fbc",
   "metadata": {
    "tags": []
   },
   "outputs": [],
   "source": [
    "if MaxMin == \"max\":\n",
    "    model.maximize(sum(x * y for x, y in zip(C, model.iter_continuous_vars())))\n",
    "elif MaxMin == \"min\":\n",
    "    model.minimize(sum(x * y for x, y in zip(C, model.iter_continuous_vars())))\n",
    "else:\n",
    "    model.maximize(sum(x * y for x, y in zip(C, model.iter_continuous_vars())))"
   ]
  },
  {
   "cell_type": "markdown",
   "id": "74c97958-b71e-45a3-95cf-5a86cfd2cdeb",
   "metadata": {},
   "source": [
    "## 求解线性规划问题"
   ]
  },
  {
   "cell_type": "code",
   "execution_count": 33,
   "id": "bb21c6a6-304a-45c1-ad66-98c1db81b38b",
   "metadata": {
    "tags": []
   },
   "outputs": [],
   "source": [
    "solution = model.solve()"
   ]
  },
  {
   "cell_type": "markdown",
   "id": "c62154cd-adfb-461d-8f35-c2040a6a5a8d",
   "metadata": {},
   "source": [
    "## 打印最优解"
   ]
  },
  {
   "cell_type": "code",
   "execution_count": 34,
   "id": "56a11e9d-db56-4f65-b503-f471a90db2d5",
   "metadata": {
    "tags": []
   },
   "outputs": [
    {
     "name": "stdout",
     "output_type": "stream",
     "text": [
      "The optimal solution is:\n",
      "\tx1 = 122.0\n",
      "\tx2 = 78.0\n",
      "\tx3 = 0\n",
      "\tObjective value = 66100.0\n"
     ]
    }
   ],
   "source": [
    "print(\"The optimal solution is:\")\n",
    "for i in range(num_variables):\n",
    "    print(f\"\\tx{i + 1} = {solution.get_value(x[i])}\")\n",
    "print(\"\\tObjective value =\", solution.get_objective_value())"
   ]
  },
  {
   "cell_type": "markdown",
   "id": "5bb3748a-3153-419e-a5b6-21c2e913243a",
   "metadata": {},
   "source": [
    "## 获取cplex对象"
   ]
  },
  {
   "cell_type": "code",
   "execution_count": 35,
   "id": "e78be24a-7ae6-4b0f-a3b6-4fa6076bfa1a",
   "metadata": {
    "tags": []
   },
   "outputs": [],
   "source": [
    "cpx = model.get_engine().get_cplex()"
   ]
  },
  {
   "cell_type": "markdown",
   "id": "c6dcaa46-bc8e-4f8c-a66b-1be8e422cf13",
   "metadata": {},
   "source": [
    "## 打印灵敏度分析的报告"
   ]
  },
  {
   "cell_type": "code",
   "execution_count": 36,
   "id": "05c1f826-8364-4b29-8615-88862c727a0c",
   "metadata": {
    "tags": []
   },
   "outputs": [
    {
     "name": "stdout",
     "output_type": "stream",
     "text": [
      "Sensitivity Analysis:\n",
      "\tOBJ Sensitivity Ranges\n",
      "[(330.0, 450.0), (260.00000000000006, 350.0), (-1e+20, 333.3333333333333)]\n",
      "[(-1e+20, 122.0), (-1e+20, 78.0), (-503.9999999999991, 183.0)]\n",
      "[(122.0, 1e+20), (78.0, 1e+20), (0.0, 1e+20)]\n",
      "[(-1e+20, 122.0, 122.0, 1e+20), (-1e+20, 78.0, 78.0, 1e+20), (-503.9999999999991, 183.0, 0.0, 1e+20)]\n",
      "[(174.0, 207.0), (1440.0, 1800.0), (2712.0, 1e+20)]\n",
      "The dual solution is:\n",
      "Dual values of the constraints:\n",
      "None: 200.00\n",
      "None: 16.67\n",
      "None: 0.00\n",
      "Reduced costs of the variables:\n",
      "x_0: 0.00\n",
      "x_1: 0.00\n",
      "x_2: -13.33\n"
     ]
    }
   ],
   "source": [
    "print(\"Sensitivity Analysis:\")\n",
    "print(\"\\tOBJ Sensitivity Ranges\")\n",
    "print(cpx.solution.sensitivity.objective())\n",
    "print(cpx.solution.sensitivity.lower_bounds())\n",
    "print(cpx.solution.sensitivity.upper_bounds())\n",
    "print(cpx.solution.sensitivity.bounds())\n",
    "print(cpx.solution.sensitivity.rhs())\n",
    "# 打印对偶解\n",
    "print(\"The dual solution is:\")\n",
    "print(\"Dual values of the constraints:\")\n",
    "for c in model.iter_constraints():\n",
    "    print(\"{}: {:.2f}\".format(c.name, c.dual_value))\n",
    "print(\"Reduced costs of the variables:\")\n",
    "for v in model.iter_variables():\n",
    "    print(\"{}: {:.2f}\".format(v.name, v.reduced_cost))"
   ]
  }
 ],
 "metadata": {
  "kernelspec": {
   "display_name": "Python 3 (ipykernel)",
   "language": "python",
   "name": "python3"
  },
  "language_info": {
   "codemirror_mode": {
    "name": "ipython",
    "version": 3
   },
   "file_extension": ".py",
   "mimetype": "text/x-python",
   "name": "python",
   "nbconvert_exporter": "python",
   "pygments_lexer": "ipython3",
   "version": "3.11.5"
  }
 },
 "nbformat": 4,
 "nbformat_minor": 5
}
